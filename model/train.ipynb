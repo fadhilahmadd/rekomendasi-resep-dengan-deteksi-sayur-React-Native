{
 "cells": [
  {
   "cell_type": "code",
   "execution_count": 4,
   "metadata": {},
   "outputs": [
    {
     "name": "stdout",
     "output_type": "stream",
     "text": [
      "Ultralytics YOLOv8.1.28 🚀 Python-3.9.18 torch-2.3.0.dev20240315 CPU (Apple M2)\n",
      "Setup complete ✅ (8 CPUs, 8.0 GB RAM, 181.1/228.3 GB disk)\n"
     ]
    }
   ],
   "source": [
    "import ultralytics\n",
    "ultralytics.checks()"
   ]
  },
  {
   "cell_type": "code",
   "execution_count": 3,
   "metadata": {},
   "outputs": [
    {
     "name": "stdout",
     "output_type": "stream",
     "text": [
      "Ultralytics YOLOv8.1.28 🚀 Python-3.9.18 torch-2.3.0.dev20240315 MPS (Apple M2)\n",
      "\u001b[34m\u001b[1mengine/trainer: \u001b[0mtask=classify, mode=train, model=/Users/fadhilahmad/Documents/apl deteksi sayur/model/yolov8m-cls.pt, data=/Users/fadhilahmad/Documents/apl deteksi sayur/model/dataset, epochs=10, time=None, patience=100, batch=16, imgsz=64, save=True, save_period=-1, cache=False, device=mps, workers=8, project=None, name=train, exist_ok=False, pretrained=True, optimizer=auto, verbose=True, seed=0, deterministic=True, single_cls=False, rect=False, cos_lr=False, close_mosaic=10, resume=False, amp=True, fraction=1.0, profile=False, freeze=None, multi_scale=False, overlap_mask=True, mask_ratio=4, dropout=0.0, val=True, split=val, save_json=False, save_hybrid=False, conf=None, iou=0.7, max_det=300, half=False, dnn=False, plots=True, source=None, vid_stride=1, stream_buffer=False, visualize=False, augment=False, agnostic_nms=False, classes=None, retina_masks=False, embed=None, show=False, save_frames=False, save_txt=False, save_conf=False, save_crop=False, show_labels=True, show_conf=True, show_boxes=True, line_width=None, format=torchscript, keras=False, optimize=False, int8=False, dynamic=False, simplify=False, opset=None, workspace=4, nms=False, lr0=0.01, lrf=0.01, momentum=0.937, weight_decay=0.0005, warmup_epochs=3.0, warmup_momentum=0.8, warmup_bias_lr=0.1, box=7.5, cls=0.5, dfl=1.5, pose=12.0, kobj=1.0, label_smoothing=0.0, nbs=64, hsv_h=0.015, hsv_s=0.7, hsv_v=0.4, degrees=0.0, translate=0.1, scale=0.5, shear=0.0, perspective=0.0, flipud=0.0, fliplr=0.5, mosaic=1.0, mixup=0.0, copy_paste=0.0, auto_augment=randaugment, erasing=0.4, crop_fraction=1.0, cfg=None, tracker=botsort.yaml, save_dir=runs/classify/train\n",
      "\u001b[34m\u001b[1mtrain:\u001b[0m /Users/fadhilahmad/Documents/apl deteksi sayur/model/dataset/train... found 10000 images in 10 classes ✅ \n",
      "\u001b[34m\u001b[1mval:\u001b[0m /Users/fadhilahmad/Documents/apl deteksi sayur/model/dataset/validation... found 2000 images in 10 classes ✅ \n",
      "\u001b[34m\u001b[1mtest:\u001b[0m /Users/fadhilahmad/Documents/apl deteksi sayur/model/dataset/test... found 2000 images in 10 classes ✅ \n",
      "Overriding model.yaml nc=1000 with nc=10\n",
      "\n",
      "                   from  n    params  module                                       arguments                     \n",
      "  0                  -1  1      1392  ultralytics.nn.modules.conv.Conv             [3, 48, 3, 2]                 \n",
      "  1                  -1  1     41664  ultralytics.nn.modules.conv.Conv             [48, 96, 3, 2]                \n",
      "  2                  -1  2    111360  ultralytics.nn.modules.block.C2f             [96, 96, 2, True]             \n",
      "  3                  -1  1    166272  ultralytics.nn.modules.conv.Conv             [96, 192, 3, 2]               \n",
      "  4                  -1  4    813312  ultralytics.nn.modules.block.C2f             [192, 192, 4, True]           \n",
      "  5                  -1  1    664320  ultralytics.nn.modules.conv.Conv             [192, 384, 3, 2]              \n",
      "  6                  -1  4   3248640  ultralytics.nn.modules.block.C2f             [384, 384, 4, True]           \n",
      "  7                  -1  1   2655744  ultralytics.nn.modules.conv.Conv             [384, 768, 3, 2]              \n",
      "  8                  -1  2   7084032  ultralytics.nn.modules.block.C2f             [768, 768, 2, True]           \n",
      "  9                  -1  1    998410  ultralytics.nn.modules.head.Classify         [768, 10]                     \n",
      "YOLOv8m-cls summary: 141 layers, 15785146 parameters, 15785146 gradients, 41.9 GFLOPs\n",
      "Transferred 228/230 items from pretrained weights\n",
      "\u001b[34m\u001b[1mtrain: \u001b[0mScanning /Users/fadhilahmad/Documents/apl deteksi sayur/model/dataset/tra\u001b[0m\n",
      "\u001b[34m\u001b[1mval: \u001b[0mScanning /Users/fadhilahmad/Documents/apl deteksi sayur/model/dataset/valid\u001b[0m\n",
      "\u001b[34m\u001b[1moptimizer:\u001b[0m 'optimizer=auto' found, ignoring 'lr0=0.01' and 'momentum=0.937' and determining best 'optimizer', 'lr0' and 'momentum' automatically... \n",
      "\u001b[34m\u001b[1moptimizer:\u001b[0m AdamW(lr=0.000714, momentum=0.9) with parameter groups 38 weight(decay=0.0), 39 weight(decay=0.0005), 39 bias(decay=0.0)\n",
      "Image sizes 64 train, 64 val\n",
      "Using 0 dataloader workers\n",
      "Logging results to \u001b[1mruns/classify/train\u001b[0m\n",
      "Starting training for 10 epochs...\n",
      "\n",
      "      Epoch    GPU_mem       loss  Instances       Size\n",
      "       1/10         0G       1.16         16         64: 100%|██████████| 625/62\n",
      "               classes   top1_acc   top5_acc: 100%|██████████| 63/63 [00:07<00:0\n",
      "                   all      0.979          1\n",
      "\n",
      "      Epoch    GPU_mem       loss  Instances       Size\n",
      "       2/10         0G     0.2641         16         64: 100%|██████████| 625/62\n",
      "               classes   top1_acc   top5_acc: 100%|██████████| 63/63 [00:02<00:0\n",
      "                   all      0.991          1\n",
      "\n",
      "      Epoch    GPU_mem       loss  Instances       Size\n",
      "       3/10         0G     0.2015         16         64: 100%|██████████| 625/62\n",
      "               classes   top1_acc   top5_acc: 100%|██████████| 63/63 [00:02<00:0\n",
      "                   all      0.984          1\n",
      "\n",
      "      Epoch    GPU_mem       loss  Instances       Size\n",
      "       4/10         0G     0.1679         16         64: 100%|██████████| 625/62\n",
      "               classes   top1_acc   top5_acc: 100%|██████████| 63/63 [00:02<00:0\n",
      "                   all      0.989          1\n",
      "\n",
      "      Epoch    GPU_mem       loss  Instances       Size\n",
      "       5/10         0G     0.1485         16         64: 100%|██████████| 625/62\n",
      "               classes   top1_acc   top5_acc: 100%|██████████| 63/63 [00:03<00:0\n",
      "                   all      0.991          1\n",
      "\n",
      "      Epoch    GPU_mem       loss  Instances       Size\n",
      "       6/10         0G     0.1211         16         64: 100%|██████████| 625/62\n",
      "               classes   top1_acc   top5_acc: 100%|██████████| 63/63 [00:02<00:0\n",
      "                   all      0.991          1\n",
      "\n",
      "      Epoch    GPU_mem       loss  Instances       Size\n",
      "       7/10         0G    0.08605         16         64: 100%|██████████| 625/62\n",
      "               classes   top1_acc   top5_acc: 100%|██████████| 63/63 [00:03<00:0\n",
      "                   all      0.996          1\n",
      "\n",
      "      Epoch    GPU_mem       loss  Instances       Size\n",
      "       8/10         0G     0.0708         16         64: 100%|██████████| 625/62\n",
      "               classes   top1_acc   top5_acc: 100%|██████████| 63/63 [00:03<00:0\n",
      "                   all      0.996          1\n",
      "\n",
      "      Epoch    GPU_mem       loss  Instances       Size\n",
      "       9/10         0G    0.05592         16         64: 100%|██████████| 625/62\n",
      "               classes   top1_acc   top5_acc: 100%|██████████| 63/63 [00:02<00:0\n",
      "                   all      0.995          1\n",
      "\n",
      "      Epoch    GPU_mem       loss  Instances       Size\n",
      "      10/10         0G      0.048         16         64: 100%|██████████| 625/62\n",
      "               classes   top1_acc   top5_acc: 100%|██████████| 63/63 [00:02<00:0\n",
      "                   all      0.997          1\n",
      "\n",
      "10 epochs completed in 0.211 hours.\n",
      "Optimizer stripped from runs/classify/train/weights/last.pt, 31.7MB\n",
      "Optimizer stripped from runs/classify/train/weights/best.pt, 31.7MB\n",
      "\n",
      "Validating runs/classify/train/weights/best.pt...\n",
      "Ultralytics YOLOv8.1.28 🚀 Python-3.9.18 torch-2.3.0.dev20240315 CPU (Apple M2)\n",
      "YOLOv8m-cls summary (fused): 103 layers, 15775466 parameters, 0 gradients, 41.6 GFLOPs\n",
      "\u001b[34m\u001b[1mtrain:\u001b[0m /Users/fadhilahmad/Documents/apl deteksi sayur/model/dataset/train... found 10000 images in 10 classes ✅ \n",
      "\u001b[34m\u001b[1mval:\u001b[0m /Users/fadhilahmad/Documents/apl deteksi sayur/model/dataset/validation... found 2000 images in 10 classes ✅ \n",
      "\u001b[34m\u001b[1mtest:\u001b[0m /Users/fadhilahmad/Documents/apl deteksi sayur/model/dataset/test... found 2000 images in 10 classes ✅ \n",
      "               classes   top1_acc   top5_acc: 100%|██████████| 63/63 [00:40<00:0\n",
      "                   all      0.997          1\n",
      "Speed: 0.0ms preprocess, 19.1ms inference, 0.0ms loss, 0.0ms postprocess per image\n",
      "Results saved to \u001b[1mruns/classify/train\u001b[0m\n",
      "Results saved to \u001b[1mruns/classify/train\u001b[0m\n",
      "💡 Learn more at https://docs.ultralytics.com/modes/train\n"
     ]
    }
   ],
   "source": [
    "!yolo task=classify mode=train device=mps model='/Users/fadhilahmad/Documents/apl deteksi sayur/model/yolov8m-cls.pt' data='/Users/fadhilahmad/Documents/apl deteksi sayur/model/dataset' epochs=10 imgsz=64 plots=True"
   ]
  },
  {
   "cell_type": "code",
   "execution_count": 6,
   "metadata": {},
   "outputs": [
    {
     "name": "stdout",
     "output_type": "stream",
     "text": [
      "Ultralytics YOLOv8.1.28 🚀 Python-3.9.18 torch-2.3.0.dev20240315 CPU (Apple M2)\n",
      "YOLOv8m-cls summary (fused): 103 layers, 15775466 parameters, 0 gradients, 41.6 GFLOPs\n",
      "\u001b[34m\u001b[1mtrain:\u001b[0m /Users/fadhilahmad/Documents/apl deteksi sayur/model/dataset/train... found 10000 images in 10 classes ✅ \n",
      "\u001b[34m\u001b[1mval:\u001b[0m /Users/fadhilahmad/Documents/apl deteksi sayur/model/dataset/validation... found 2000 images in 10 classes ✅ \n",
      "\u001b[34m\u001b[1mtest:\u001b[0m /Users/fadhilahmad/Documents/apl deteksi sayur/model/dataset/test... found 2000 images in 10 classes ✅ \n"
     ]
    },
    {
     "name": "stderr",
     "output_type": "stream",
     "text": [
      "\u001b[34m\u001b[1mval: \u001b[0mScanning /Users/fadhilahmad/Documents/apl deteksi sayur/model/dataset/validation... 2000 images, 0 corrupt: 100%|██████████| 2000/2000 [00:00<?, ?it/s]\n",
      "               classes   top1_acc   top5_acc: 100%|██████████| 125/125 [00:41<00:00,  3.01it/s]\n"
     ]
    },
    {
     "name": "stdout",
     "output_type": "stream",
     "text": [
      "                   all      0.997          1\n",
      "Speed: 0.0ms preprocess, 19.8ms inference, 0.0ms loss, 0.0ms postprocess per image\n",
      "Results saved to \u001b[1mruns/classify/val\u001b[0m\n"
     ]
    },
    {
     "data": {
      "text/plain": [
       "1.0"
      ]
     },
     "execution_count": 6,
     "metadata": {},
     "output_type": "execute_result"
    }
   ],
   "source": [
    "from ultralytics import YOLO\n",
    "\n",
    "# Load a model\n",
    "model = YOLO('yolov8m-cls.pt')  # official model\n",
    "model = YOLO('/Users/fadhilahmad/Documents/apl deteksi sayur/model/runs/classify/train/weights/best.pt')\n",
    "\n",
    "# Validate the model\n",
    "metrics = model.val()  \n",
    "metrics.top1   \n",
    "metrics.top5 "
   ]
  },
  {
   "cell_type": "code",
   "execution_count": 7,
   "metadata": {},
   "outputs": [
    {
     "data": {
      "image/jpeg": "[encoded data removed]",
      "text/plain": [
       "<IPython.core.display.Image object>"
      ]
     },
     "execution_count": 7,
     "metadata": {
      "image/jpeg": {
       "width": 400
      }
     },
     "output_type": "execute_result"
    }
   ],
   "source": [
    "from IPython.display import Image\n",
    "\n",
    "Image(filename='/Users/fadhilahmad/Documents/apl deteksi sayur/model/runs/classify/train/val_batch0_labels.jpg', width=400)"
   ]
  },
  {
   "cell_type": "code",
   "execution_count": 9,
   "metadata": {},
   "outputs": [
    {
     "name": "stdout",
     "output_type": "stream",
     "text": [
      "\n",
      "image 1/1 /Users/fadhilahmad/Documents/apl deteksi sayur/model/licensed-image.jpeg: 64x64 Kentang 0.68, Tidak_Diketahui 0.28, Tomat 0.03, Paprika 0.01, Wortel 0.00, 10.6ms\n",
      "Speed: 15.0ms preprocess, 10.6ms inference, 0.0ms postprocess per image at shape (1, 3, 64, 64)\n",
      "{0: 'Brokoli', 1: 'Kembang_Kol', 2: 'Kentang', 3: 'Kubis', 4: 'Labu', 5: 'Paprika', 6: 'Tidak_Diketahui', 7: 'Timun', 8: 'Tomat', 9: 'Wortel'}\n",
      "[6.484785990323871e-05, 0.0002137457486242056, 0.6825564503669739, 9.599859367881436e-06, 0.0011376992333680391, 0.006729853805154562, 0.2775125503540039, 0.00011549657938303426, 0.0275465976446867, 0.0041131810285151005]\n",
      "Kentang\n"
     ]
    }
   ],
   "source": [
    "from ultralytics import YOLO\n",
    "import numpy as np\n",
    "\n",
    "model = YOLO('/Users/fadhilahmad/Documents/apl deteksi sayur/model/runs/classify/train/weights/best.pt')  # load a custom model\n",
    "\n",
    "results = model('/Users/fadhilahmad/Documents/apl deteksi sayur/model/licensed-image.jpeg')  # predict on an image\n",
    "\n",
    "names_dict = results[0].names\n",
    "\n",
    "probs = results[0].probs.data.tolist()\n",
    "\n",
    "print(names_dict)\n",
    "print(probs)\n",
    "\n",
    "print(names_dict[np.argmax(probs)])"
   ]
  }
 ],
 "metadata": {
  "kernelspec": {
   "display_name": "yolo",
   "language": "python",
   "name": "python3"
  },
  "language_info": {
   "codemirror_mode": {
    "name": "ipython",
    "version": 3
   },
   "file_extension": ".py",
   "mimetype": "text/x-python",
   "name": "python",
   "nbconvert_exporter": "python",
   "pygments_lexer": "ipython3",
   "version": "3.9.18"
  }
 },
 "nbformat": 4,
 "nbformat_minor": 2
}
